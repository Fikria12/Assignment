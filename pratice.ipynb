{
 "cells": [
  {
   "cell_type": "code",
   "execution_count": null,
   "metadata": {},
   "outputs": [],
   "source": [
    "Question#1\n",
    "Write a program that will give you the result of adding and reversing four-digit numbers.\n",
    "\n",
    "# Input\n",
    "Enter the four digit number: 4567\n",
    "\n",
    "# Output\n",
    "total: 22\n",
    "reverse: 7654"
   ]
  },
  {
   "cell_type": "code",
   "execution_count": 4,
   "metadata": {},
   "outputs": [
    {
     "name": "stdout",
     "output_type": "stream",
     "text": [
      "22\n",
      "7654\n"
     ]
    }
   ],
   "source": [
    "import math\n",
    "number = str(input(\"Enter the four digit number: \"))\n",
    "resultSum = math.floor(int(number[0]) + int(number[1]) + int(number[2]) + int(number[3]))\n",
    "print(resultSum)\n",
    "reverse = number[3] + number[2] + number[1] + number[0]\n",
    "print(reverse)\n"
   ]
  },
  {
   "cell_type": "code",
   "execution_count": null,
   "metadata": {},
   "outputs": [],
   "source": [
    "Question#2\n",
    "Write a script that prompts the user to enter the coordinates of point (x, y). Find the slope and Euclidean distance between point (x1, y1) and point (x2, y2).\n",
    "\n",
    "# Input\n",
    "Enter the coordinate of point A: 2, 5\n",
    "Enter the coordinate of point B: 3, 7\n",
    "\n",
    "# Output\n",
    "slope: 2\n",
    "distance: 2.236"
   ]
  },
  {
   "cell_type": "code",
   "execution_count": 19,
   "metadata": {},
   "outputs": [
    {
     "name": "stdout",
     "output_type": "stream",
     "text": [
      "2.0\n",
      "2.23606797749979\n"
     ]
    }
   ],
   "source": [
    "import math\n",
    "a = '2, 5'\n",
    "b = '3, 7'\n",
    "\n",
    "y2 = int(b[3])\n",
    "y1 = int(a[3])\n",
    "x2 = int(b[0])\n",
    "x1 = int(a[0])\n",
    "\n",
    "gradien = (y2-y1) / (x2-x1)\n",
    "\n",
    "result = math.sqrt((y2-y1)**2 + (x2 - x1)**2)\n",
    "\n",
    "print(gradien)\n",
    "print(result)\n"
   ]
  },
  {
   "cell_type": "code",
   "execution_count": null,
   "metadata": {},
   "outputs": [],
   "source": [
    "Question#3\n",
    "Write a python program to get a single string from two given strings, separated by a space and swap the first three characters of each string."
   ]
  },
  {
   "cell_type": "code",
   "execution_count": 9,
   "metadata": {},
   "outputs": [
    {
     "name": "stdout",
     "output_type": "stream",
     "text": [
      "Result: dhiwa purka\n"
     ]
    }
   ],
   "source": [
    "str1 = input(\"Enter the frist string: \")\n",
    "str2 = input(\"Enter the second string: \")\n",
    "\n",
    "new_str = str2[:3]+ str1[3:]+\" \"+str1[:3]+ str2[3:]\n",
    "print(\"Result:\", new_str)"
   ]
  },
  {
   "cell_type": "code",
   "execution_count": null,
   "metadata": {},
   "outputs": [],
   "source": [
    "Question#4\n",
    "Create a new string made of the first, middle, and last characters of each input string."
   ]
  },
  {
   "cell_type": "code",
   "execution_count": 16,
   "metadata": {},
   "outputs": [
    {
     "name": "stdout",
     "output_type": "stream",
     "text": [
      "Result: jPKdaA\n"
     ]
    }
   ],
   "source": [
    "# Input\n",
    "s1 =  'joGjaKARTa'\n",
    "s2 =  'PurWAdhiKA'\n",
    "\n",
    "print(\"Result:\", s1[0] + s2[0] + s1[5] + s2[5] + s1[-1] + s2[-1])"
   ]
  },
  {
   "cell_type": "code",
   "execution_count": null,
   "metadata": {},
   "outputs": [],
   "source": [
    "Question#5\n",
    "Given two strings. Write a program to create a new string by appending the second string in the middle of first string.\n",
    "# Input\n",
    "Enter the first text: 'JCDS'\n",
    "Enter the second text: '0210'\n",
    "\n",
    "# Output\n",
    "expected result: 'JC0210DS'"
   ]
  },
  {
   "cell_type": "code",
   "execution_count": 29,
   "metadata": {},
   "outputs": [
    {
     "ename": "SyntaxError",
     "evalue": "f-string: invalid syntax. Perhaps you forgot a comma? (15382808.py, line 5)",
     "output_type": "error",
     "traceback": [
      "\u001b[0;36m  Cell \u001b[0;32mIn[29], line 5\u001b[0;36m\u001b[0m\n\u001b[0;31m    text = f'{x1[:mid]{x2}{x1[mid:]}}'\u001b[0m\n\u001b[0m     ^\u001b[0m\n\u001b[0;31mSyntaxError\u001b[0m\u001b[0;31m:\u001b[0m f-string: invalid syntax. Perhaps you forgot a comma?\n"
     ]
    }
   ],
   "source": [
    "x1 = input('Enter the first text:')\n",
    "x2 = input('Enter the second text:')\n",
    "\n",
    "mid  = len(x1)//2\n",
    "text = f'{x1[:mid]{x2}{x1[mid:]}}'\n",
    "\n",
    "print (f'expected result: {text}')\n"
   ]
  }
 ],
 "metadata": {
  "kernelspec": {
   "display_name": "Python 3",
   "language": "python",
   "name": "python3"
  },
  "language_info": {
   "codemirror_mode": {
    "name": "ipython",
    "version": 3
   },
   "file_extension": ".py",
   "mimetype": "text/x-python",
   "name": "python",
   "nbconvert_exporter": "python",
   "pygments_lexer": "ipython3",
   "version": "3.11.4"
  },
  "orig_nbformat": 4
 },
 "nbformat": 4,
 "nbformat_minor": 2
}
